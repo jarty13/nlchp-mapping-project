{
 "cells": [
  {
   "cell_type": "code",
   "execution_count": 13,
   "metadata": {},
   "outputs": [
    {
     "data": {
      "text/html": [
       "<script>requirejs.config({paths: { 'plotly': ['https://cdn.plot.ly/plotly-latest.min']},});if(!window.Plotly) {{require(['plotly'],function(plotly) {window.Plotly=plotly;});}}</script>"
      ],
      "text/vnd.plotly.v1+html": [
       "<script>requirejs.config({paths: { 'plotly': ['https://cdn.plot.ly/plotly-latest.min']},});if(!window.Plotly) {{require(['plotly'],function(plotly) {window.Plotly=plotly;});}}</script>"
      ]
     },
     "metadata": {},
     "output_type": "display_data"
    }
   ],
   "source": [
    "import plotly\n",
    "import pandas as pd\n",
    "import numpy as np\n",
    "\n",
    "plotly.offline.init_notebook_mode(connected=True)"
   ]
  },
  {
   "cell_type": "code",
   "execution_count": 3,
   "metadata": {
    "scrolled": true
   },
   "outputs": [
    {
     "data": {
      "text/html": [
       "<div>\n",
       "<style scoped>\n",
       "    .dataframe tbody tr th:only-of-type {\n",
       "        vertical-align: middle;\n",
       "    }\n",
       "\n",
       "    .dataframe tbody tr th {\n",
       "        vertical-align: top;\n",
       "    }\n",
       "\n",
       "    .dataframe thead th {\n",
       "        text-align: right;\n",
       "    }\n",
       "</style>\n",
       "<table border=\"1\" class=\"dataframe\">\n",
       "  <thead>\n",
       "    <tr style=\"text-align: right;\">\n",
       "      <th></th>\n",
       "      <th>City</th>\n",
       "      <th>State</th>\n",
       "      <th>Latitude</th>\n",
       "      <th>Longitude</th>\n",
       "      <th>Accuracy Score</th>\n",
       "      <th>Accuracy Type</th>\n",
       "      <th>Number</th>\n",
       "      <th>Street</th>\n",
       "      <th>City.1</th>\n",
       "      <th>State.1</th>\n",
       "      <th>County</th>\n",
       "      <th>Zip</th>\n",
       "      <th>Country</th>\n",
       "      <th>Source</th>\n",
       "      <th>Congressional District</th>\n",
       "    </tr>\n",
       "  </thead>\n",
       "  <tbody>\n",
       "    <tr>\n",
       "      <th>0</th>\n",
       "      <td>Aurora</td>\n",
       "      <td>Illinois</td>\n",
       "      <td>41.747452</td>\n",
       "      <td>-88.238622</td>\n",
       "      <td>1.0</td>\n",
       "      <td>place</td>\n",
       "      <td>NaN</td>\n",
       "      <td>NaN</td>\n",
       "      <td>Aurora</td>\n",
       "      <td>IL</td>\n",
       "      <td>DuPage County</td>\n",
       "      <td>60504.0</td>\n",
       "      <td>US</td>\n",
       "      <td>TIGER/Line® dataset from the US Census Bureau</td>\n",
       "      <td>IL11</td>\n",
       "    </tr>\n",
       "    <tr>\n",
       "      <th>1</th>\n",
       "      <td>Carbondale</td>\n",
       "      <td>Illinois</td>\n",
       "      <td>37.739004</td>\n",
       "      <td>-89.209109</td>\n",
       "      <td>1.0</td>\n",
       "      <td>place</td>\n",
       "      <td>NaN</td>\n",
       "      <td>NaN</td>\n",
       "      <td>Carbondale</td>\n",
       "      <td>IL</td>\n",
       "      <td>Jackson County</td>\n",
       "      <td>62901.0</td>\n",
       "      <td>US</td>\n",
       "      <td>TIGER/Line® dataset from the US Census Bureau</td>\n",
       "      <td>IL12</td>\n",
       "    </tr>\n",
       "    <tr>\n",
       "      <th>2</th>\n",
       "      <td>Champaign</td>\n",
       "      <td>Illinois</td>\n",
       "      <td>40.107890</td>\n",
       "      <td>-88.244266</td>\n",
       "      <td>1.0</td>\n",
       "      <td>place</td>\n",
       "      <td>NaN</td>\n",
       "      <td>NaN</td>\n",
       "      <td>Champaign</td>\n",
       "      <td>IL</td>\n",
       "      <td>Champaign County</td>\n",
       "      <td>61820.0</td>\n",
       "      <td>US</td>\n",
       "      <td>TIGER/Line® dataset from the US Census Bureau</td>\n",
       "      <td>IL13</td>\n",
       "    </tr>\n",
       "    <tr>\n",
       "      <th>3</th>\n",
       "      <td>Chicago</td>\n",
       "      <td>Illinois</td>\n",
       "      <td>41.885310</td>\n",
       "      <td>-87.622130</td>\n",
       "      <td>1.0</td>\n",
       "      <td>place</td>\n",
       "      <td>NaN</td>\n",
       "      <td>NaN</td>\n",
       "      <td>Chicago</td>\n",
       "      <td>IL</td>\n",
       "      <td>Cook County</td>\n",
       "      <td>60601.0</td>\n",
       "      <td>US</td>\n",
       "      <td>TIGER/Line® dataset from the US Census Bureau</td>\n",
       "      <td>IL7</td>\n",
       "    </tr>\n",
       "    <tr>\n",
       "      <th>4</th>\n",
       "      <td>Cicero</td>\n",
       "      <td>Illinois</td>\n",
       "      <td>41.838036</td>\n",
       "      <td>-87.759870</td>\n",
       "      <td>1.0</td>\n",
       "      <td>place</td>\n",
       "      <td>NaN</td>\n",
       "      <td>NaN</td>\n",
       "      <td>Cicero</td>\n",
       "      <td>IL</td>\n",
       "      <td>Cook County</td>\n",
       "      <td>60804.0</td>\n",
       "      <td>US</td>\n",
       "      <td>TIGER/Line® dataset from the US Census Bureau</td>\n",
       "      <td>IL4</td>\n",
       "    </tr>\n",
       "  </tbody>\n",
       "</table>\n",
       "</div>"
      ],
      "text/plain": [
       "         City     State   Latitude  Longitude  Accuracy Score Accuracy Type  \\\n",
       "0      Aurora  Illinois  41.747452 -88.238622             1.0         place   \n",
       "1  Carbondale  Illinois  37.739004 -89.209109             1.0         place   \n",
       "2   Champaign  Illinois  40.107890 -88.244266             1.0         place   \n",
       "3     Chicago  Illinois  41.885310 -87.622130             1.0         place   \n",
       "4      Cicero  Illinois  41.838036 -87.759870             1.0         place   \n",
       "\n",
       "   Number  Street      City.1 State.1            County      Zip Country  \\\n",
       "0     NaN     NaN      Aurora      IL     DuPage County  60504.0      US   \n",
       "1     NaN     NaN  Carbondale      IL    Jackson County  62901.0      US   \n",
       "2     NaN     NaN   Champaign      IL  Champaign County  61820.0      US   \n",
       "3     NaN     NaN     Chicago      IL       Cook County  60601.0      US   \n",
       "4     NaN     NaN      Cicero      IL       Cook County  60804.0      US   \n",
       "\n",
       "                                          Source Congressional District  \n",
       "0  TIGER/Line® dataset from the US Census Bureau                   IL11  \n",
       "1  TIGER/Line® dataset from the US Census Bureau                   IL12  \n",
       "2  TIGER/Line® dataset from the US Census Bureau                   IL13  \n",
       "3  TIGER/Line® dataset from the US Census Bureau                    IL7  \n",
       "4  TIGER/Line® dataset from the US Census Bureau                    IL4  "
      ]
     },
     "execution_count": 3,
     "metadata": {},
     "output_type": "execute_result"
    }
   ],
   "source": [
    "df = pd.read_csv('city_info_geocodio.csv')\n",
    "df.head()"
   ]
  },
  {
   "cell_type": "code",
   "execution_count": 52,
   "metadata": {},
   "outputs": [
    {
     "data": {
      "text/html": [
       "<div>\n",
       "<style scoped>\n",
       "    .dataframe tbody tr th:only-of-type {\n",
       "        vertical-align: middle;\n",
       "    }\n",
       "\n",
       "    .dataframe tbody tr th {\n",
       "        vertical-align: top;\n",
       "    }\n",
       "\n",
       "    .dataframe thead th {\n",
       "        text-align: right;\n",
       "    }\n",
       "</style>\n",
       "<table border=\"1\" class=\"dataframe\">\n",
       "  <thead>\n",
       "    <tr style=\"text-align: right;\">\n",
       "      <th></th>\n",
       "      <th>City</th>\n",
       "      <th>State</th>\n",
       "      <th>Latitude</th>\n",
       "      <th>Longitude</th>\n",
       "      <th>Accuracy Score</th>\n",
       "      <th>Accuracy Type</th>\n",
       "      <th>Number</th>\n",
       "      <th>Street</th>\n",
       "      <th>City.1</th>\n",
       "      <th>State.1</th>\n",
       "      <th>County</th>\n",
       "      <th>Zip</th>\n",
       "      <th>Country</th>\n",
       "      <th>Source</th>\n",
       "      <th>Congressional District</th>\n",
       "    </tr>\n",
       "  </thead>\n",
       "  <tbody>\n",
       "  </tbody>\n",
       "</table>\n",
       "</div>"
      ],
      "text/plain": [
       "Empty DataFrame\n",
       "Columns: [City, State, Latitude, Longitude, Accuracy Score, Accuracy Type, Number, Street, City.1, State.1, County, Zip, Country, Source, Congressional District]\n",
       "Index: []"
      ]
     },
     "execution_count": 52,
     "metadata": {},
     "output_type": "execute_result"
    }
   ],
   "source": [
    "# Geocodio told me that five values weren't succesfful mapped, but for the sake of best practice, I checked anyway\n",
    "# I suspect that these either weren't named correctly or for some reason weren't in geocodio's database \n",
    "# Because there are only five missing values, I'll fix this manually, although that obviously isn't a scalable \n",
    "# solution. \n",
    "\n",
    "df.loc[df['Latitude'] == 0]"
   ]
  },
  {
   "cell_type": "markdown",
   "metadata": {},
   "source": [
    "Geocodio tells you the likely accuracy of the lat/long it's provided with an accuracy score. Some of the scores do not have high accuracy scores, which is worth mentioning. For now, we'll see if any mapping errors actually occur. If they do, I'll go back and engineer a solution."
   ]
  },
  {
   "cell_type": "code",
   "execution_count": 51,
   "metadata": {},
   "outputs": [],
   "source": [
    "#Updating relevent values \n",
    "\n",
    "new_data = [(40.0874759, -108.8048292, 'CO3'), (39.446649, -106.03757, 'CO2'), (28.022243, -81.732857, 'FL9'),\n",
    "            (39.9689532, -82.9376804, 'OH3'), (39.103119, -84.512016, 'OH1')]\n",
    "indexes = (63, 85, 98, 186, 205)\n",
    "\n",
    "for i in range(5): \n",
    "    df.loc[indexes[i],'Latitude'] = new_data[i][0]\n",
    "    df.loc[indexes[i], 'Longitude'] = new_data[i][1]\n",
    "    df.loc[indexes[i], 'Congressional District'] = new_data[i][2]"
   ]
  },
  {
   "cell_type": "code",
   "execution_count": 55,
   "metadata": {},
   "outputs": [],
   "source": [
    "# This creates the text that appears at each point on the the scroll over\n",
    "df['text'] = df['City'] + ', ' + df['State'] + '.' + ' Status: Active'"
   ]
  },
  {
   "cell_type": "code",
   "execution_count": 77,
   "metadata": {},
   "outputs": [
    {
     "data": {
      "text/plain": [
       "'file:///Users/flatironschool/Documents/NLCHP_Map/city_locations.html'"
      ]
     },
     "execution_count": 77,
     "metadata": {},
     "output_type": "execute_result"
    }
   ],
   "source": [
    "#Building the actual map here \n",
    "\n",
    "\n",
    "# If at a later point we choose to add a \"success/failure scale\" or something similar, we'll add it using this \n",
    "\n",
    "scl = [ [0,\"rgb(5, 10, 172)\"],[1,\"rgb(220, 220, 220)\"] ]\n",
    "# green - 127, 255, 0   and   red  - \n",
    "\n",
    "data = [ dict(\n",
    "        type = 'scattergeo',\n",
    "        locationmode = 'USA-states',\n",
    "        lon = df['Longitude'],\n",
    "        lat = df['Latitude'],\n",
    "        hovertext = df['text'],\n",
    "        mode = 'markers',\n",
    "        marker = dict(\n",
    "            size = 8,\n",
    "            opacity = 0.8,\n",
    "            reversescale = True,\n",
    "            autocolorscale = False,\n",
    "            symbol = 'circle',\n",
    "            line = dict(\n",
    "                width=1,\n",
    "                color='rgba(102, 102, 102)'\n",
    "            ),\n",
    "            colorscale = scl,\n",
    "            cmin = 0,\n",
    "            color = 'darkred',\n",
    "#             cmax = df['cnt'].max(),\n",
    "#             colorbar=dict(\n",
    "#                 title=\"Incoming flightsFebruary 2011\" (need to add another paren. before end bracket to readd)\n",
    "            )\n",
    "        )]\n",
    "\n",
    "layout = dict(\n",
    "        title = 'Targeted Cities with Active Anti-Panhandling Laws',\n",
    "        colorbar = False,\n",
    "        geo = dict(\n",
    "            scope='usa',\n",
    "            projection=dict( type='albers usa' ),\n",
    "            showland = True,\n",
    "            landcolor = \"rgb(156, 156, 156)\",\n",
    "            subunitcolor = \"rgb(217, 217, 217)\",\n",
    "            countrycolor = \"rgb(217, 217, 217)\",\n",
    "            countrywidth = 0.5,\n",
    "            subunitwidth = 0.5\n",
    "        ),\n",
    "    )\n",
    "\n",
    "fig = dict( data=data, layout=layout )\n",
    "\n",
    "# This code is for use in displaying the map in Juypter notebook. \n",
    "\n",
    "# plotly.offline.iplot(fig, validate=False, filename='city_locations')\n",
    "\n",
    "# This code is used to create standalone HTML that is saved locally and opened in the browser.\n",
    "\n",
    "plotly.offline.plot(fig, validate=False, filename='city_locations.html')"
   ]
  }
 ],
 "metadata": {
  "kernelspec": {
   "display_name": "Python 3",
   "language": "python",
   "name": "python3"
  },
  "language_info": {
   "codemirror_mode": {
    "name": "ipython",
    "version": 3
   },
   "file_extension": ".py",
   "mimetype": "text/x-python",
   "name": "python",
   "nbconvert_exporter": "python",
   "pygments_lexer": "ipython3",
   "version": "3.5.5"
  }
 },
 "nbformat": 4,
 "nbformat_minor": 2
}
